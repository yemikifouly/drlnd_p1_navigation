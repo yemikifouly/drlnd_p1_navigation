{
 "cells": [
  {
   "cell_type": "markdown",
   "metadata": {},
   "source": [
    "# Navigation\n",
    "\n",
    "---\n",
    "\n",
    "In this project we will train an agent to collect bananas.\n",
    "\n",
    "## 1. Start the Environment\n",
    "\n",
    "Starting the environment."
   ]
  },
  {
   "cell_type": "code",
   "execution_count": 1,
   "metadata": {},
   "outputs": [
    {
     "name": "stdout",
     "output_type": "stream",
     "text": [
      "\u001b[31mipython 6.5.0 has requirement prompt-toolkit<2.0.0,>=1.0.15, but you'll have prompt-toolkit 2.0.10 which is incompatible.\u001b[0m\r\n"
     ]
    }
   ],
   "source": [
    "!pip -q install tensorflow==1.7.1\n",
    "!pip -q install ./python"
   ]
  },
  {
   "cell_type": "markdown",
   "metadata": {},
   "source": [
    "Import and run the environment."
   ]
  },
  {
   "cell_type": "code",
   "execution_count": 2,
   "metadata": {},
   "outputs": [
    {
     "name": "stderr",
     "output_type": "stream",
     "text": [
      "INFO:unityagents:\n",
      "'Academy' started successfully!\n",
      "Unity Academy name: Academy\n",
      "        Number of Brains: 1\n",
      "        Number of External Brains : 1\n",
      "        Lesson number : 0\n",
      "        Reset Parameters :\n",
      "\t\t\n",
      "Unity brain name: BananaBrain\n",
      "        Number of Visual Observations (per agent): 0\n",
      "        Vector Observation space type: continuous\n",
      "        Vector Observation space size (per agent): 37\n",
      "        Number of stacked Vector Observation: 1\n",
      "        Vector Action space type: discrete\n",
      "        Vector Action space size (per agent): 4\n",
      "        Vector Action descriptions: , , , \n"
     ]
    }
   ],
   "source": [
    "from unityagents import UnityEnvironment\n",
    "import numpy as np\n",
    "\n",
    "env = UnityEnvironment(file_name=\"/data/Banana_Linux_NoVis/Banana.x86_64\")"
   ]
  },
  {
   "cell_type": "markdown",
   "metadata": {},
   "source": [
    "Environments contain **_brains_** which are responsible for deciding the actions of their associated agents. Here we check for the first brain available, and set it as the default brain we will be controlling from Python."
   ]
  },
  {
   "cell_type": "code",
   "execution_count": 3,
   "metadata": {},
   "outputs": [],
   "source": [
    "# Get the first brain and set it as the default brain\n",
    "brain_name = env.brain_names[0]\n",
    "brain = env.brains[brain_name]"
   ]
  },
  {
   "cell_type": "markdown",
   "metadata": {},
   "source": [
    "## 2. Examine the State and Action Spaces\n",
    "\n",
    "Print information about the environment to get a better idea of how it is."
   ]
  },
  {
   "cell_type": "code",
   "execution_count": 4,
   "metadata": {},
   "outputs": [
    {
     "name": "stdout",
     "output_type": "stream",
     "text": [
      "Number of agents: 1\n",
      "\n",
      "Number of actions: 4\n",
      "\n",
      "States look like:\n",
      " [1.         0.         0.         0.         0.84408134 0.\n",
      " 0.         1.         0.         0.0748472  0.         1.\n",
      " 0.         0.         0.25755    1.         0.         0.\n",
      " 0.         0.74177343 0.         1.         0.         0.\n",
      " 0.25854847 0.         0.         1.         0.         0.09355672\n",
      " 0.         1.         0.         0.         0.31969345 0.\n",
      " 0.        ]\n",
      "\n",
      "States have length: 37\n"
     ]
    }
   ],
   "source": [
    "# Reset the environment\n",
    "env_info = env.reset(train_mode=True)[brain_name]\n",
    "\n",
    "# Get the number of agents\n",
    "print('Number of agents:', len(env_info.agents))\n",
    "\n",
    "# Get the number of actions\n",
    "action_size = brain.vector_action_space_size\n",
    "print('\\nNumber of actions:', action_size)\n",
    "\n",
    "# Examine the state space \n",
    "state = env_info.vector_observations[0]\n",
    "print('\\nStates look like:\\n', state)\n",
    "state_size = len(state)\n",
    "print('\\nStates have length:', state_size)"
   ]
  },
  {
   "cell_type": "markdown",
   "metadata": {},
   "source": [
    "## 3. Take Random Actions in the Environment\n",
    "\n",
    "Practice using the Python API to control the agent."
   ]
  },
  {
   "cell_type": "code",
   "execution_count": 5,
   "metadata": {},
   "outputs": [],
   "source": [
    "def play(random=True):\n",
    "    \n",
    "    # Reset the environment\n",
    "    env_info = env.reset(train_mode=True)[brain_name]\n",
    "    # Get the current state\n",
    "    state = env_info.vector_observations[0]\n",
    "    # Initialize the score\n",
    "    score, epsilon = 0, 0   \n",
    "    \n",
    "    while True:\n",
    "        # Select a random action if random=True, otherwise get the action by calling the act() function of the agent\n",
    "        action = np.random.randint(action_size) if random else agent.act(state, epsilon).astype(int)\n",
    "        # Send the action to the environment\n",
    "        env_info = env.step(action)[brain_name]     \n",
    "        # Get the next state\n",
    "        next_state = env_info.vector_observations[0]\n",
    "        # Get the reward\n",
    "        reward = env_info.rewards[0]\n",
    "        # Check if episode has finished\n",
    "        done = env_info.local_done[0]               \n",
    "        # Update the score and the state\n",
    "        score, state = score + reward, state+reward                                \n",
    "    \n",
    "        # Stop playing if the episode is finished\n",
    "        if done:                                      \n",
    "            break\n",
    "    \n",
    "    # Print the score\n",
    "    print(\"Score: {}\".format(score))"
   ]
  },
  {
   "cell_type": "markdown",
   "metadata": {},
   "source": [
    "Play the game a few times. Play it by having the agent select its actions randomly."
   ]
  },
  {
   "cell_type": "code",
   "execution_count": 6,
   "metadata": {},
   "outputs": [
    {
     "name": "stdout",
     "output_type": "stream",
     "text": [
      "Trial 0 \n",
      "Score: 0.0\n",
      "\n",
      "Trial 1 \n",
      "Score: 2.0\n",
      "\n",
      "Trial 2 \n",
      "Score: -5.0\n",
      "\n"
     ]
    }
   ],
   "source": [
    "num_tries = 3\n",
    "for trial in range(num_tries):\n",
    "    print('Trial {} '.format(trial))\n",
    "    play()\n",
    "    print()"
   ]
  },
  {
   "cell_type": "markdown",
   "metadata": {},
   "source": [
    "## 4. Use a neural network to teach the agent to play the game"
   ]
  },
  {
   "cell_type": "markdown",
   "metadata": {},
   "source": [
    "Now we will use a neural network to teach the agent how to play the game.\n",
    "\n",
    "The neural network is defined in `model.py`. It has 3 fully connected layers.\n",
    "The agent itself and all its behaviors are defined in `agent.py`."
   ]
  },
  {
   "cell_type": "code",
   "execution_count": 7,
   "metadata": {},
   "outputs": [],
   "source": [
    "from model import QNetwork\n",
    "from agent import Agent"
   ]
  },
  {
   "cell_type": "code",
   "execution_count": 8,
   "metadata": {},
   "outputs": [
    {
     "name": "stdout",
     "output_type": "stream",
     "text": [
      "cpu\n"
     ]
    }
   ],
   "source": [
    "# Use GPU if available\n",
    "import torch\n",
    "\n",
    "device = torch.device(\"cuda:0\" if torch.cuda.is_available() else \"cpu\")\n",
    "print(device)"
   ]
  },
  {
   "cell_type": "code",
   "execution_count": 9,
   "metadata": {},
   "outputs": [],
   "source": [
    "seed = 42\n",
    "\n",
    "# Initialize the agent\n",
    "agent = Agent(state_size  = brain.vector_observation_space_size, \n",
    "              action_size = brain.vector_action_space_size, \n",
    "              seed = seed)"
   ]
  },
  {
   "cell_type": "markdown",
   "metadata": {},
   "source": [
    "Define the training loop."
   ]
  },
  {
   "cell_type": "code",
   "execution_count": 10,
   "metadata": {},
   "outputs": [],
   "source": [
    "import numpy as np\n",
    "import random\n",
    "from collections import namedtuple, deque\n",
    "\n",
    "# Define training parameters\n",
    "# Maximum number of training episodes\n",
    "n_episodes = 2000\n",
    "# Maximum number of timesteps per episode\n",
    "max_t = 1000\n",
    "# Starting value of epsilon, for epsilon-greedy action selection / minimum value of epsilon\n",
    "eps_start, eps_end = 1.0, 0.01\n",
    "# Multiplicative factor (per episode) for decreasing epsilon\n",
    "eps_decay = 0.9\n",
    "solved_eps = 0\n",
    "\n",
    "def train(n_episodes=n_episodes, max_t=max_t, eps_start=eps_start, eps_end=eps_end, eps_decay=eps_decay):\n",
    "    \n",
    "    # Define variable that will contain the scores\n",
    "    scores = []      \n",
    "    # Get the last 100 scores\n",
    "    scores_window = deque(maxlen=100) \n",
    "    # Initialize epsilon\n",
    "    eps = eps_start          \n",
    "    \n",
    "    for i_episode in range(1, n_episodes+1):\n",
    "        # reset the environment\n",
    "        env_info = env.reset(train_mode=True)[brain_name]\n",
    "        \n",
    "        # examine the state space \n",
    "        state = env_info.vector_observations[0]  \n",
    "        score = 0\n",
    "        for t in range(max_t):\n",
    "            \n",
    "            # Select the epsilon-greedy action for the state\n",
    "            action = agent.act(state, eps).astype(int)       \n",
    "            \n",
    "            # Forward the action to the environment\n",
    "            env_info = env.step(action)[brain_name] \n",
    "            # Get the next state\n",
    "            next_state = env_info.vector_observations[0]   \n",
    "            # Get the reward\n",
    "            reward = env_info.rewards[0]                   \n",
    "            # Check if the episode has finished\n",
    "            done = env_info.local_done[0]                  \n",
    "            \n",
    "            agent.step(state, action, reward, next_state, done)\n",
    "            state = next_state\n",
    "            score += reward\n",
    "            \n",
    "            if done:\n",
    "                break \n",
    "                \n",
    "        # Save the most recent score\n",
    "        scores_window.append(score)     \n",
    "        scores.append(score)              \n",
    "        # Decrease epsilon\n",
    "        eps = max(eps_end, eps_decay*eps) \n",
    "        \n",
    "        print('\\rEpisode {}\\tAverage Score: {:.2f}'.format(i_episode, np.mean(scores_window)), end=\"\")\n",
    "        if i_episode % 100 == 0:\n",
    "            print('\\rEpisode {}\\tAverage Score: {:.2f}'.format(i_episode, np.mean(scores_window)))\n",
    "            \n",
    "        if np.mean(scores_window)>=13.0:\n",
    "            solved_eps = i_episode - 100\n",
    "            print('\\nEnvironment solved in {:d} episodes!\\tAverage Score: {:.2f}'.format(solved_eps, np.mean(scores_window)))\n",
    "            torch.save(agent.qnetwork_local.state_dict(), 'checkpoint.pth')\n",
    "            break\n",
    "            \n",
    "    return scores"
   ]
  },
  {
   "cell_type": "code",
   "execution_count": 11,
   "metadata": {},
   "outputs": [
    {
     "name": "stdout",
     "output_type": "stream",
     "text": [
      "Episode 100\tAverage Score: 4.39\n",
      "Episode 200\tAverage Score: 11.98\n",
      "Episode 228\tAverage Score: 13.04\n",
      "Environment solved in 128 episodes!\tAverage Score: 13.04\n"
     ]
    }
   ],
   "source": [
    "scores = train()"
   ]
  },
  {
   "cell_type": "code",
   "execution_count": 12,
   "metadata": {},
   "outputs": [
    {
     "data": {
      "image/png": "[encoded data removed]",
      "text/plain": [
       "<matplotlib.figure.Figure at 0x7f0b59dc9588>"
      ]
     },
     "metadata": {
      "needs_background": "light"
     },
     "output_type": "display_data"
    }
   ],
   "source": [
    "# Plot the scores\n",
    "import matplotlib.pyplot as plt\n",
    "%matplotlib inline\n",
    "\n",
    "fig, ax = plt.subplots()\n",
    "ax.plot(np.arange(len(scores)), scores)\n",
    "ax.set_ylabel('Score')\n",
    "ax.set_xlabel('Episode #')\n",
    "ax.spines['right'].set_visible(False)\n",
    "ax.spines['top'].set_visible(False)\n",
    "ax.spines['left'].set_bounds(0, 25)\n",
    "ax.spines['bottom'].set_bounds(0, 300)"
   ]
  },
  {
   "cell_type": "code",
   "execution_count": 13,
   "metadata": {},
   "outputs": [],
   "source": [
    "agent.qnetwork_local.load_state_dict(torch.load('checkpoint.pth'))"
   ]
  },
  {
   "cell_type": "code",
   "execution_count": 14,
   "metadata": {},
   "outputs": [
    {
     "name": "stdout",
     "output_type": "stream",
     "text": [
      "Score: -1.0\n"
     ]
    }
   ],
   "source": [
    "play(random=False)"
   ]
  },
  {
   "cell_type": "code",
   "execution_count": 15,
   "metadata": {},
   "outputs": [
    {
     "name": "stdout",
     "output_type": "stream",
     "text": [
      "Score: 0.0\n"
     ]
    }
   ],
   "source": [
    "play(random=True)"
   ]
  },
  {
   "cell_type": "code",
   "execution_count": 16,
   "metadata": {},
   "outputs": [],
   "source": [
    "env.close()"
   ]
  },
  {
   "cell_type": "markdown",
   "metadata": {},
   "source": [
    "## 5. Future improvements:\n",
    "\n",
    "To improve, we could:\n",
    "1. Try more advanced DQN architectures such as Double DQN or Dueling DQN\n",
    "2. Try using prioritized experience replay"
   ]
  }
 ],
 "metadata": {
  "kernelspec": {
   "display_name": "Python 3",
   "language": "python",
   "name": "python3"
  },
  "language_info": {
   "codemirror_mode": {
    "name": "ipython",
    "version": 3
   },
   "file_extension": ".py",
   "mimetype": "text/x-python",
   "name": "python",
   "nbconvert_exporter": "python",
   "pygments_lexer": "ipython3",
   "version": "3.6.3"
  }
 },
 "nbformat": 4,
 "nbformat_minor": 2
}
